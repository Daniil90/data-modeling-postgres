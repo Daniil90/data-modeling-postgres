{
 "cells": [
  {
   "cell_type": "markdown",
   "metadata": {},
   "outputs": [],
   "source": [
    "# ETL Processes\n",
    "Use this notebook to develop the ETL process for each of your tables before completing the `etl.py` file to load the whole datasets."
   ]
  },
  {
   "cell_type": "code",
   "execution_count": 1,
   "metadata": {},
   "outputs": [],
   "source": [
    "import os\n",
    "import glob\n",
    "import psycopg2\n",
    "import pandas as pd\n",
    "from sql_queries import *"
   ]
  },
  {
   "cell_type": "code",
   "execution_count": 2,
   "metadata": {},
   "outputs": [],
   "source": [
    "conn = psycopg2.connect(\"host=127.0.0.1 dbname=sparkifydb user=student password=student\")\n",
    "cur = conn.cursor()"
   ]
  },
  {
   "cell_type": "code",
   "execution_count": 3,
   "metadata": {},
   "outputs": [],
   "source": [
    "def get_files(filepath):\n",
    "    all_files = []\n",
    "    for root, dirs, files in os.walk(filepath):\n",
    "        files = glob.glob(os.path.join(root,'*.json'))\n",
    "        for f in files :\n",
    "            all_files.append(os.path.abspath(f))\n",
    "    \n",
    "    return all_files"
   ]
  },
  {
   "cell_type": "markdown",
   "metadata": {},
   "outputs": [],
   "source": [
    "# Process `song_data`\n",
    "In this first part, you'll perform ETL on the first dataset, `song_data`, to create the `songs` and `artists` dimensional tables.\n",
    "\n",
    "Let's perform ETL on a single song file and load a single record into each table to start.\n",
    "- Use the `get_files` function provided above to get a list of all song JSON files in `data/song_data`\n",
    "- Select the first song in this list\n",
    "- Read the song file and view the data"
   ]
  },
  {
   "cell_type": "code",
   "execution_count": 4,
   "metadata": {},
   "outputs": [
    {
     "data": {
      "text/plain": "['c:\\\\Users\\\\dai\\\\Udacity\\\\data_engineer\\\\Projects\\\\data-modeling-postgres\\\\data\\\\song_data\\\\A\\\\A\\\\A\\\\TRAAAAW128F429D538.json',\n 'c:\\\\Users\\\\dai\\\\Udacity\\\\data_engineer\\\\Projects\\\\data-modeling-postgres\\\\data\\\\song_data\\\\A\\\\A\\\\A\\\\TRAAABD128F429CF47.json',\n 'c:\\\\Users\\\\dai\\\\Udacity\\\\data_engineer\\\\Projects\\\\data-modeling-postgres\\\\data\\\\song_data\\\\A\\\\A\\\\A\\\\TRAAADZ128F9348C2E.json',\n 'c:\\\\Users\\\\dai\\\\Udacity\\\\data_engineer\\\\Projects\\\\data-modeling-postgres\\\\data\\\\song_data\\\\A\\\\A\\\\A\\\\TRAAAEF128F4273421.json',\n 'c:\\\\Users\\\\dai\\\\Udacity\\\\data_engineer\\\\Projects\\\\data-modeling-postgres\\\\data\\\\song_data\\\\A\\\\A\\\\A\\\\TRAAAFD128F92F423A.json',\n 'c:\\\\Users\\\\dai\\\\Udacity\\\\data_engineer\\\\Projects\\\\data-modeling-postgres\\\\data\\\\song_data\\\\A\\\\A\\\\A\\\\TRAAAMO128F1481E7F.json',\n 'c:\\\\Users\\\\dai\\\\Udacity\\\\data_engineer\\\\Projects\\\\data-modeling-postgres\\\\data\\\\song_data\\\\A\\\\A\\\\A\\\\TRAAAMQ128F1460CD3.json',\n 'c:\\\\Users\\\\dai\\\\Udacity\\\\data_engineer\\\\Projects\\\\data-modeling-postgres\\\\data\\\\song_data\\\\A\\\\A\\\\A\\\\TRAAAPK128E0786D96.json',\n 'c:\\\\Users\\\\dai\\\\Udacity\\\\data_engineer\\\\Projects\\\\data-modeling-postgres\\\\data\\\\song_data\\\\A\\\\A\\\\A\\\\TRAAARJ128F9320760.json',\n 'c:\\\\Users\\\\dai\\\\Udacity\\\\data_engineer\\\\Projects\\\\data-modeling-postgres\\\\data\\\\song_data\\\\A\\\\A\\\\A\\\\TRAAAVG12903CFA543.json',\n 'c:\\\\Users\\\\dai\\\\Udacity\\\\data_engineer\\\\Projects\\\\data-modeling-postgres\\\\data\\\\song_data\\\\A\\\\A\\\\A\\\\TRAAAVO128F93133D4.json',\n 'c:\\\\Users\\\\dai\\\\Udacity\\\\data_engineer\\\\Projects\\\\data-modeling-postgres\\\\data\\\\song_data\\\\A\\\\A\\\\B\\\\TRAABCL128F4286650.json',\n 'c:\\\\Users\\\\dai\\\\Udacity\\\\data_engineer\\\\Projects\\\\data-modeling-postgres\\\\data\\\\song_data\\\\A\\\\A\\\\B\\\\TRAABDL12903CAABBA.json',\n 'c:\\\\Users\\\\dai\\\\Udacity\\\\data_engineer\\\\Projects\\\\data-modeling-postgres\\\\data\\\\song_data\\\\A\\\\A\\\\B\\\\TRAABJL12903CDCF1A.json',\n 'c:\\\\Users\\\\dai\\\\Udacity\\\\data_engineer\\\\Projects\\\\data-modeling-postgres\\\\data\\\\song_data\\\\A\\\\A\\\\B\\\\TRAABJV128F1460C49.json',\n 'c:\\\\Users\\\\dai\\\\Udacity\\\\data_engineer\\\\Projects\\\\data-modeling-postgres\\\\data\\\\song_data\\\\A\\\\A\\\\B\\\\TRAABLR128F423B7E3.json',\n 'c:\\\\Users\\\\dai\\\\Udacity\\\\data_engineer\\\\Projects\\\\data-modeling-postgres\\\\data\\\\song_data\\\\A\\\\A\\\\B\\\\TRAABNV128F425CEE1.json',\n 'c:\\\\Users\\\\dai\\\\Udacity\\\\data_engineer\\\\Projects\\\\data-modeling-postgres\\\\data\\\\song_data\\\\A\\\\A\\\\B\\\\TRAABRB128F9306DD5.json',\n 'c:\\\\Users\\\\dai\\\\Udacity\\\\data_engineer\\\\Projects\\\\data-modeling-postgres\\\\data\\\\song_data\\\\A\\\\A\\\\B\\\\TRAABVM128F92CA9DC.json',\n 'c:\\\\Users\\\\dai\\\\Udacity\\\\data_engineer\\\\Projects\\\\data-modeling-postgres\\\\data\\\\song_data\\\\A\\\\A\\\\B\\\\TRAABXG128F9318EBD.json',\n 'c:\\\\Users\\\\dai\\\\Udacity\\\\data_engineer\\\\Projects\\\\data-modeling-postgres\\\\data\\\\song_data\\\\A\\\\A\\\\B\\\\TRAABYN12903CFD305.json',\n 'c:\\\\Users\\\\dai\\\\Udacity\\\\data_engineer\\\\Projects\\\\data-modeling-postgres\\\\data\\\\song_data\\\\A\\\\A\\\\B\\\\TRAABYW128F4244559.json',\n 'c:\\\\Users\\\\dai\\\\Udacity\\\\data_engineer\\\\Projects\\\\data-modeling-postgres\\\\data\\\\song_data\\\\A\\\\A\\\\C\\\\TRAACCG128F92E8A55.json',\n 'c:\\\\Users\\\\dai\\\\Udacity\\\\data_engineer\\\\Projects\\\\data-modeling-postgres\\\\data\\\\song_data\\\\A\\\\A\\\\C\\\\TRAACER128F4290F96.json',\n 'c:\\\\Users\\\\dai\\\\Udacity\\\\data_engineer\\\\Projects\\\\data-modeling-postgres\\\\data\\\\song_data\\\\A\\\\A\\\\C\\\\TRAACFV128F935E50B.json',\n 'c:\\\\Users\\\\dai\\\\Udacity\\\\data_engineer\\\\Projects\\\\data-modeling-postgres\\\\data\\\\song_data\\\\A\\\\A\\\\C\\\\TRAACHN128F1489601.json',\n 'c:\\\\Users\\\\dai\\\\Udacity\\\\data_engineer\\\\Projects\\\\data-modeling-postgres\\\\data\\\\song_data\\\\A\\\\A\\\\C\\\\TRAACIW12903CC0F6D.json',\n 'c:\\\\Users\\\\dai\\\\Udacity\\\\data_engineer\\\\Projects\\\\data-modeling-postgres\\\\data\\\\song_data\\\\A\\\\A\\\\C\\\\TRAACLV128F427E123.json',\n 'c:\\\\Users\\\\dai\\\\Udacity\\\\data_engineer\\\\Projects\\\\data-modeling-postgres\\\\data\\\\song_data\\\\A\\\\A\\\\C\\\\TRAACNS128F14A2DF5.json',\n 'c:\\\\Users\\\\dai\\\\Udacity\\\\data_engineer\\\\Projects\\\\data-modeling-postgres\\\\data\\\\song_data\\\\A\\\\A\\\\C\\\\TRAACOW128F933E35F.json',\n 'c:\\\\Users\\\\dai\\\\Udacity\\\\data_engineer\\\\Projects\\\\data-modeling-postgres\\\\data\\\\song_data\\\\A\\\\A\\\\C\\\\TRAACPE128F421C1B9.json',\n 'c:\\\\Users\\\\dai\\\\Udacity\\\\data_engineer\\\\Projects\\\\data-modeling-postgres\\\\data\\\\song_data\\\\A\\\\A\\\\C\\\\TRAACQT128F9331780.json',\n 'c:\\\\Users\\\\dai\\\\Udacity\\\\data_engineer\\\\Projects\\\\data-modeling-postgres\\\\data\\\\song_data\\\\A\\\\A\\\\C\\\\TRAACSL128F93462F4.json',\n 'c:\\\\Users\\\\dai\\\\Udacity\\\\data_engineer\\\\Projects\\\\data-modeling-postgres\\\\data\\\\song_data\\\\A\\\\A\\\\C\\\\TRAACTB12903CAAF15.json',\n 'c:\\\\Users\\\\dai\\\\Udacity\\\\data_engineer\\\\Projects\\\\data-modeling-postgres\\\\data\\\\song_data\\\\A\\\\A\\\\C\\\\TRAACVS128E078BE39.json',\n 'c:\\\\Users\\\\dai\\\\Udacity\\\\data_engineer\\\\Projects\\\\data-modeling-postgres\\\\data\\\\song_data\\\\A\\\\A\\\\C\\\\TRAACZK128F4243829.json',\n 'c:\\\\Users\\\\dai\\\\Udacity\\\\data_engineer\\\\Projects\\\\data-modeling-postgres\\\\data\\\\song_data\\\\A\\\\B\\\\A\\\\TRABACN128F425B784.json',\n 'c:\\\\Users\\\\dai\\\\Udacity\\\\data_engineer\\\\Projects\\\\data-modeling-postgres\\\\data\\\\song_data\\\\A\\\\B\\\\A\\\\TRABAFJ128F42AF24E.json',\n 'c:\\\\Users\\\\dai\\\\Udacity\\\\data_engineer\\\\Projects\\\\data-modeling-postgres\\\\data\\\\song_data\\\\A\\\\B\\\\A\\\\TRABAFP128F931E9A1.json',\n 'c:\\\\Users\\\\dai\\\\Udacity\\\\data_engineer\\\\Projects\\\\data-modeling-postgres\\\\data\\\\song_data\\\\A\\\\B\\\\A\\\\TRABAIO128F42938F9.json',\n 'c:\\\\Users\\\\dai\\\\Udacity\\\\data_engineer\\\\Projects\\\\data-modeling-postgres\\\\data\\\\song_data\\\\A\\\\B\\\\A\\\\TRABATO128F42627E9.json',\n 'c:\\\\Users\\\\dai\\\\Udacity\\\\data_engineer\\\\Projects\\\\data-modeling-postgres\\\\data\\\\song_data\\\\A\\\\B\\\\A\\\\TRABAVQ12903CBF7E0.json',\n 'c:\\\\Users\\\\dai\\\\Udacity\\\\data_engineer\\\\Projects\\\\data-modeling-postgres\\\\data\\\\song_data\\\\A\\\\B\\\\A\\\\TRABAWW128F4250A31.json',\n 'c:\\\\Users\\\\dai\\\\Udacity\\\\data_engineer\\\\Projects\\\\data-modeling-postgres\\\\data\\\\song_data\\\\A\\\\B\\\\A\\\\TRABAXL128F424FC50.json',\n 'c:\\\\Users\\\\dai\\\\Udacity\\\\data_engineer\\\\Projects\\\\data-modeling-postgres\\\\data\\\\song_data\\\\A\\\\B\\\\A\\\\TRABAXR128F426515F.json',\n 'c:\\\\Users\\\\dai\\\\Udacity\\\\data_engineer\\\\Projects\\\\data-modeling-postgres\\\\data\\\\song_data\\\\A\\\\B\\\\A\\\\TRABAXV128F92F6AE3.json',\n 'c:\\\\Users\\\\dai\\\\Udacity\\\\data_engineer\\\\Projects\\\\data-modeling-postgres\\\\data\\\\song_data\\\\A\\\\B\\\\A\\\\TRABAZH128F930419A.json',\n 'c:\\\\Users\\\\dai\\\\Udacity\\\\data_engineer\\\\Projects\\\\data-modeling-postgres\\\\data\\\\song_data\\\\A\\\\B\\\\B\\\\TRABBAM128F429D223.json',\n 'c:\\\\Users\\\\dai\\\\Udacity\\\\data_engineer\\\\Projects\\\\data-modeling-postgres\\\\data\\\\song_data\\\\A\\\\B\\\\B\\\\TRABBBV128F42967D7.json',\n 'c:\\\\Users\\\\dai\\\\Udacity\\\\data_engineer\\\\Projects\\\\data-modeling-postgres\\\\data\\\\song_data\\\\A\\\\B\\\\B\\\\TRABBJE12903CDB442.json',\n 'c:\\\\Users\\\\dai\\\\Udacity\\\\data_engineer\\\\Projects\\\\data-modeling-postgres\\\\data\\\\song_data\\\\A\\\\B\\\\B\\\\TRABBKX128F4285205.json',\n 'c:\\\\Users\\\\dai\\\\Udacity\\\\data_engineer\\\\Projects\\\\data-modeling-postgres\\\\data\\\\song_data\\\\A\\\\B\\\\B\\\\TRABBLU128F93349CF.json',\n 'c:\\\\Users\\\\dai\\\\Udacity\\\\data_engineer\\\\Projects\\\\data-modeling-postgres\\\\data\\\\song_data\\\\A\\\\B\\\\B\\\\TRABBNP128F932546F.json',\n 'c:\\\\Users\\\\dai\\\\Udacity\\\\data_engineer\\\\Projects\\\\data-modeling-postgres\\\\data\\\\song_data\\\\A\\\\B\\\\B\\\\TRABBOP128F931B50D.json',\n 'c:\\\\Users\\\\dai\\\\Udacity\\\\data_engineer\\\\Projects\\\\data-modeling-postgres\\\\data\\\\song_data\\\\A\\\\B\\\\B\\\\TRABBOR128F4286200.json',\n 'c:\\\\Users\\\\dai\\\\Udacity\\\\data_engineer\\\\Projects\\\\data-modeling-postgres\\\\data\\\\song_data\\\\A\\\\B\\\\B\\\\TRABBTA128F933D304.json',\n 'c:\\\\Users\\\\dai\\\\Udacity\\\\data_engineer\\\\Projects\\\\data-modeling-postgres\\\\data\\\\song_data\\\\A\\\\B\\\\B\\\\TRABBVJ128F92F7EAA.json',\n 'c:\\\\Users\\\\dai\\\\Udacity\\\\data_engineer\\\\Projects\\\\data-modeling-postgres\\\\data\\\\song_data\\\\A\\\\B\\\\B\\\\TRABBXU128F92FEF48.json',\n 'c:\\\\Users\\\\dai\\\\Udacity\\\\data_engineer\\\\Projects\\\\data-modeling-postgres\\\\data\\\\song_data\\\\A\\\\B\\\\B\\\\TRABBZN12903CD9297.json',\n 'c:\\\\Users\\\\dai\\\\Udacity\\\\data_engineer\\\\Projects\\\\data-modeling-postgres\\\\data\\\\song_data\\\\A\\\\B\\\\C\\\\TRABCAJ12903CDFCC2.json',\n 'c:\\\\Users\\\\dai\\\\Udacity\\\\data_engineer\\\\Projects\\\\data-modeling-postgres\\\\data\\\\song_data\\\\A\\\\B\\\\C\\\\TRABCEC128F426456E.json',\n 'c:\\\\Users\\\\dai\\\\Udacity\\\\data_engineer\\\\Projects\\\\data-modeling-postgres\\\\data\\\\song_data\\\\A\\\\B\\\\C\\\\TRABCEI128F424C983.json',\n 'c:\\\\Users\\\\dai\\\\Udacity\\\\data_engineer\\\\Projects\\\\data-modeling-postgres\\\\data\\\\song_data\\\\A\\\\B\\\\C\\\\TRABCFL128F149BB0D.json',\n 'c:\\\\Users\\\\dai\\\\Udacity\\\\data_engineer\\\\Projects\\\\data-modeling-postgres\\\\data\\\\song_data\\\\A\\\\B\\\\C\\\\TRABCIX128F4265903.json',\n 'c:\\\\Users\\\\dai\\\\Udacity\\\\data_engineer\\\\Projects\\\\data-modeling-postgres\\\\data\\\\song_data\\\\A\\\\B\\\\C\\\\TRABCKL128F423A778.json',\n 'c:\\\\Users\\\\dai\\\\Udacity\\\\data_engineer\\\\Projects\\\\data-modeling-postgres\\\\data\\\\song_data\\\\A\\\\B\\\\C\\\\TRABCPZ128F4275C32.json',\n 'c:\\\\Users\\\\dai\\\\Udacity\\\\data_engineer\\\\Projects\\\\data-modeling-postgres\\\\data\\\\song_data\\\\A\\\\B\\\\C\\\\TRABCRU128F423F449.json',\n 'c:\\\\Users\\\\dai\\\\Udacity\\\\data_engineer\\\\Projects\\\\data-modeling-postgres\\\\data\\\\song_data\\\\A\\\\B\\\\C\\\\TRABCTK128F934B224.json',\n 'c:\\\\Users\\\\dai\\\\Udacity\\\\data_engineer\\\\Projects\\\\data-modeling-postgres\\\\data\\\\song_data\\\\A\\\\B\\\\C\\\\TRABCUQ128E0783E2B.json',\n 'c:\\\\Users\\\\dai\\\\Udacity\\\\data_engineer\\\\Projects\\\\data-modeling-postgres\\\\data\\\\song_data\\\\A\\\\B\\\\C\\\\TRABCXB128F4286BD3.json',\n 'c:\\\\Users\\\\dai\\\\Udacity\\\\data_engineer\\\\Projects\\\\data-modeling-postgres\\\\data\\\\song_data\\\\A\\\\B\\\\C\\\\TRABCYE128F934CE1D.json']"
     },
     "execution_count": 4,
     "metadata": {},
     "output_type": "execute_result"
    }
   ],
   "source": [
    "song_files = get_files('data/song_data') \n",
    "song_files"
   ]
  },
  {
   "cell_type": "code",
   "execution_count": 5,
   "metadata": {},
   "outputs": [
    {
     "data": {
      "text/plain": "'c:\\\\Users\\\\dai\\\\Udacity\\\\data_engineer\\\\Projects\\\\data-modeling-postgres\\\\data\\\\song_data\\\\A\\\\A\\\\A\\\\TRAAAAW128F429D538.json'"
     },
     "execution_count": 5,
     "metadata": {},
     "output_type": "execute_result"
    }
   ],
   "source": [
    "filepath = song_files[0]\n",
    "filepath"
   ]
  },
  {
   "cell_type": "code",
   "execution_count": 6,
   "metadata": {},
   "outputs": [
    {
     "data": {
      "text/html": "<div>\n<style scoped>\n    .dataframe tbody tr th:only-of-type {\n        vertical-align: middle;\n    }\n\n    .dataframe tbody tr th {\n        vertical-align: top;\n    }\n\n    .dataframe thead th {\n        text-align: right;\n    }\n</style>\n<table border=\"1\" class=\"dataframe\">\n  <thead>\n    <tr style=\"text-align: right;\">\n      <th></th>\n      <th>num_songs</th>\n      <th>artist_id</th>\n      <th>artist_latitude</th>\n      <th>artist_longitude</th>\n      <th>artist_location</th>\n      <th>artist_name</th>\n      <th>song_id</th>\n      <th>title</th>\n      <th>duration</th>\n      <th>year</th>\n    </tr>\n  </thead>\n  <tbody>\n    <tr>\n      <td>0</td>\n      <td>1</td>\n      <td>ARD7TVE1187B99BFB1</td>\n      <td>NaN</td>\n      <td>NaN</td>\n      <td>California - LA</td>\n      <td>Casual</td>\n      <td>SOMZWCG12A8C13C480</td>\n      <td>I Didn't Mean To</td>\n      <td>218.93179</td>\n      <td>0</td>\n    </tr>\n  </tbody>\n</table>\n</div>",
      "text/plain": "   num_songs           artist_id  artist_latitude  artist_longitude  \\\n0          1  ARD7TVE1187B99BFB1              NaN               NaN   \n\n   artist_location artist_name             song_id             title  \\\n0  California - LA      Casual  SOMZWCG12A8C13C480  I Didn't Mean To   \n\n    duration  year  \n0  218.93179     0  "
     },
     "execution_count": 6,
     "metadata": {},
     "output_type": "execute_result"
    }
   ],
   "source": [
    "df = pd.read_json(filepath,lines=True)\n",
    "df.head()"
   ]
  },
  {
   "cell_type": "markdown",
   "metadata": {},
   "outputs": [],
   "source": [
    "## #1: `songs` Table\n",
    "#### Extract Data for Songs Table\n",
    "- Select columns for song ID, title, artist ID, year, and duration\n",
    "- Use `df.values` to select just the values from the dataframe\n",
    "- Index to select the first (only) record in the dataframe\n",
    "- Convert the array to a list and set it to `song_data`"
   ]
  },
  {
   "cell_type": "code",
   "execution_count": 7,
   "metadata": {},
   "outputs": [
    {
     "data": {
      "text/plain": "['SOMZWCG12A8C13C480', \"I Didn't Mean To\", 'ARD7TVE1187B99BFB1', 0, 218.93179]"
     },
     "execution_count": 7,
     "metadata": {},
     "output_type": "execute_result"
    }
   ],
   "source": [
    "song_data = df[['song_id','title','artist_id','year','duration']].values[0].tolist()\n",
    "song_data"
   ]
  },
  {
   "cell_type": "markdown",
   "metadata": {},
   "outputs": [],
   "source": [
    "#### Insert Record into Song Table\n",
    "Implement the `song_table_insert` query in `sql_queries.py` and run the cell below to insert a record for this song into the `songs` table. Remember to run `create_tables.py` before running the cell below to ensure you've created/resetted the `songs` table in the sparkify database."
   ]
  },
  {
   "cell_type": "code",
   "execution_count": 8,
   "metadata": {},
   "outputs": [],
   "source": [
    "cur.execute(song_table_insert, song_data)\n",
    "conn.commit()"
   ]
  },
  {
   "cell_type": "markdown",
   "metadata": {},
   "outputs": [],
   "source": [
    "Run `test.ipynb` to see if you've successfully added a record to this table."
   ]
  },
  {
   "cell_type": "markdown",
   "metadata": {},
   "outputs": [],
   "source": [
    "## #2: `artists` Table\n",
    "#### Extract Data for Artists Table\n",
    "- Select columns for artist ID, name, location, latitude, and longitude\n",
    "- Use `df.values` to select just the values from the dataframe\n",
    "- Index to select the first (only) record in the dataframe\n",
    "- Convert the array to a list and set it to `artist_data`"
   ]
  },
  {
   "cell_type": "code",
   "execution_count": 9,
   "metadata": {},
   "outputs": [
    {
     "data": {
      "text/plain": "['ARD7TVE1187B99BFB1', 'Casual', 'California - LA', nan, nan]"
     },
     "execution_count": 9,
     "metadata": {},
     "output_type": "execute_result"
    }
   ],
   "source": [
    "artist_data = df[['artist_id', 'artist_name','artist_location','artist_latitude','artist_longitude']].values[0].tolist()\n",
    "artist_data"
   ]
  },
  {
   "cell_type": "markdown",
   "metadata": {},
   "outputs": [],
   "source": [
    "#### Insert Record into Artist Table\n",
    "Implement the `artist_table_insert` query in `sql_queries.py` and run the cell below to insert a record for this song's artist into the `artists` table. Remember to run `create_tables.py` before running the cell below to ensure you've created/resetted the `artists` table in the sparkify database."
   ]
  },
  {
   "cell_type": "code",
   "execution_count": 10,
   "metadata": {},
   "outputs": [],
   "source": [
    "cur.execute(artist_table_insert, artist_data)\n",
    "conn.commit()"
   ]
  },
  {
   "cell_type": "markdown",
   "metadata": {},
   "outputs": [],
   "source": [
    "Run `test.ipynb` to see if you've successfully added a record to this table."
   ]
  },
  {
   "cell_type": "markdown",
   "metadata": {},
   "outputs": [],
   "source": [
    "# Process `log_data`\n",
    "In this part, you'll perform ETL on the second dataset, `log_data`, to create the `time` and `users` dimensional tables, as well as the `songplays` fact table.\n",
    "\n",
    "Let's perform ETL on a single log file and load a single record into each table.\n",
    "- Use the `get_files` function provided above to get a list of all log JSON files in `data/log_data`\n",
    "- Select the first log file in this list\n",
    "- Read the log file and view the data"
   ]
  },
  {
   "cell_type": "code",
   "execution_count": 11,
   "metadata": {},
   "outputs": [],
   "source": [
    "log_files = get_files('data/log_data')"
   ]
  },
  {
   "cell_type": "code",
   "execution_count": 12,
   "metadata": {},
   "outputs": [],
   "source": [
    "filepath = log_files[1]"
   ]
  },
  {
   "cell_type": "code",
   "execution_count": 13,
   "metadata": {},
   "outputs": [
    {
     "data": {
      "text/html": "<div>\n<style scoped>\n    .dataframe tbody tr th:only-of-type {\n        vertical-align: middle;\n    }\n\n    .dataframe tbody tr th {\n        vertical-align: top;\n    }\n\n    .dataframe thead th {\n        text-align: right;\n    }\n</style>\n<table border=\"1\" class=\"dataframe\">\n  <thead>\n    <tr style=\"text-align: right;\">\n      <th></th>\n      <th>artist</th>\n      <th>auth</th>\n      <th>firstName</th>\n      <th>gender</th>\n      <th>itemInSession</th>\n      <th>lastName</th>\n      <th>length</th>\n      <th>level</th>\n      <th>location</th>\n      <th>method</th>\n      <th>page</th>\n      <th>registration</th>\n      <th>sessionId</th>\n      <th>song</th>\n      <th>status</th>\n      <th>ts</th>\n      <th>userAgent</th>\n      <th>userId</th>\n    </tr>\n  </thead>\n  <tbody>\n    <tr>\n      <td>0</td>\n      <td>N.E.R.D. FEATURING MALICE</td>\n      <td>Logged In</td>\n      <td>Jayden</td>\n      <td>M</td>\n      <td>0</td>\n      <td>Fox</td>\n      <td>288.99220</td>\n      <td>free</td>\n      <td>New Orleans-Metairie, LA</td>\n      <td>PUT</td>\n      <td>NextSong</td>\n      <td>1541033612796</td>\n      <td>184</td>\n      <td>Am I High (Feat. Malice)</td>\n      <td>200</td>\n      <td>1541121934796</td>\n      <td>\"Mozilla/5.0 (Windows NT 6.3; WOW64) AppleWebK...</td>\n      <td>101</td>\n    </tr>\n    <tr>\n      <td>1</td>\n      <td>None</td>\n      <td>Logged In</td>\n      <td>Stefany</td>\n      <td>F</td>\n      <td>0</td>\n      <td>White</td>\n      <td>NaN</td>\n      <td>free</td>\n      <td>Lubbock, TX</td>\n      <td>GET</td>\n      <td>Home</td>\n      <td>1540708070796</td>\n      <td>82</td>\n      <td>None</td>\n      <td>200</td>\n      <td>1541122176796</td>\n      <td>\"Mozilla/5.0 (Macintosh; Intel Mac OS X 10_9_4...</td>\n      <td>83</td>\n    </tr>\n    <tr>\n      <td>2</td>\n      <td>Death Cab for Cutie</td>\n      <td>Logged In</td>\n      <td>Stefany</td>\n      <td>F</td>\n      <td>1</td>\n      <td>White</td>\n      <td>216.42404</td>\n      <td>free</td>\n      <td>Lubbock, TX</td>\n      <td>PUT</td>\n      <td>NextSong</td>\n      <td>1540708070796</td>\n      <td>82</td>\n      <td>A Lack Of Color (Album Version)</td>\n      <td>200</td>\n      <td>1541122241796</td>\n      <td>\"Mozilla/5.0 (Macintosh; Intel Mac OS X 10_9_4...</td>\n      <td>83</td>\n    </tr>\n    <tr>\n      <td>3</td>\n      <td>Tracy Gang Pussy</td>\n      <td>Logged In</td>\n      <td>Stefany</td>\n      <td>F</td>\n      <td>2</td>\n      <td>White</td>\n      <td>221.33506</td>\n      <td>free</td>\n      <td>Lubbock, TX</td>\n      <td>PUT</td>\n      <td>NextSong</td>\n      <td>1540708070796</td>\n      <td>82</td>\n      <td>I Have A Wish</td>\n      <td>200</td>\n      <td>1541122457796</td>\n      <td>\"Mozilla/5.0 (Macintosh; Intel Mac OS X 10_9_4...</td>\n      <td>83</td>\n    </tr>\n    <tr>\n      <td>4</td>\n      <td>Skillet</td>\n      <td>Logged In</td>\n      <td>Kevin</td>\n      <td>M</td>\n      <td>0</td>\n      <td>Arellano</td>\n      <td>178.02404</td>\n      <td>free</td>\n      <td>Harrisburg-Carlisle, PA</td>\n      <td>PUT</td>\n      <td>NextSong</td>\n      <td>1540006905796</td>\n      <td>153</td>\n      <td>Monster (Album Version)</td>\n      <td>200</td>\n      <td>1541126568796</td>\n      <td>\"Mozilla/5.0 (Macintosh; Intel Mac OS X 10_9_4...</td>\n      <td>66</td>\n    </tr>\n  </tbody>\n</table>\n</div>",
      "text/plain": "                      artist       auth firstName gender  itemInSession  \\\n0  N.E.R.D. FEATURING MALICE  Logged In    Jayden      M              0   \n1                       None  Logged In   Stefany      F              0   \n2        Death Cab for Cutie  Logged In   Stefany      F              1   \n3           Tracy Gang Pussy  Logged In   Stefany      F              2   \n4                    Skillet  Logged In     Kevin      M              0   \n\n   lastName     length level                  location method      page  \\\n0       Fox  288.99220  free  New Orleans-Metairie, LA    PUT  NextSong   \n1     White        NaN  free               Lubbock, TX    GET      Home   \n2     White  216.42404  free               Lubbock, TX    PUT  NextSong   \n3     White  221.33506  free               Lubbock, TX    PUT  NextSong   \n4  Arellano  178.02404  free   Harrisburg-Carlisle, PA    PUT  NextSong   \n\n    registration  sessionId                             song  status  \\\n0  1541033612796        184         Am I High (Feat. Malice)     200   \n1  1540708070796         82                             None     200   \n2  1540708070796         82  A Lack Of Color (Album Version)     200   \n3  1540708070796         82                    I Have A Wish     200   \n4  1540006905796        153          Monster (Album Version)     200   \n\n              ts                                          userAgent  userId  \n0  1541121934796  \"Mozilla/5.0 (Windows NT 6.3; WOW64) AppleWebK...     101  \n1  1541122176796  \"Mozilla/5.0 (Macintosh; Intel Mac OS X 10_9_4...      83  \n2  1541122241796  \"Mozilla/5.0 (Macintosh; Intel Mac OS X 10_9_4...      83  \n3  1541122457796  \"Mozilla/5.0 (Macintosh; Intel Mac OS X 10_9_4...      83  \n4  1541126568796  \"Mozilla/5.0 (Macintosh; Intel Mac OS X 10_9_4...      66  "
     },
     "execution_count": 13,
     "metadata": {},
     "output_type": "execute_result"
    }
   ],
   "source": [
    "df = pd.read_json(filepath,lines=True)\n",
    "df.head()"
   ]
  },
  {
   "cell_type": "markdown",
   "metadata": {},
   "outputs": [],
   "source": [
    "## #3: `time` Table\n",
    "#### Extract Data for Time Table\n",
    "- Filter records by `NextSong` action\n",
    "- Convert the `ts` timestamp column to datetime\n",
    "  - Hint: the current timestamp is in milliseconds\n",
    "- Extract the timestamp, hour, day, week of year, month, year, and weekday from the `ts` column and set `time_data` to a list containing these values in order\n",
    "  - Hint: use pandas' [`dt` attribute](https://pandas.pydata.org/pandas-docs/stable/reference/api/pandas.Series.dt.html) to access easily datetimelike properties.\n",
    "- Specify labels for these columns and set to `column_labels`\n",
    "- Create a dataframe, `time_df,` containing the time data for this file by combining `column_labels` and `time_data` into a dictionary and converting this into a dataframe"
   ]
  },
  {
   "cell_type": "code",
   "execution_count": 14,
   "metadata": {},
   "outputs": [
    {
     "data": {
      "text/html": "<div>\n<style scoped>\n    .dataframe tbody tr th:only-of-type {\n        vertical-align: middle;\n    }\n\n    .dataframe tbody tr th {\n        vertical-align: top;\n    }\n\n    .dataframe thead th {\n        text-align: right;\n    }\n</style>\n<table border=\"1\" class=\"dataframe\">\n  <thead>\n    <tr style=\"text-align: right;\">\n      <th></th>\n      <th>artist</th>\n      <th>auth</th>\n      <th>firstName</th>\n      <th>gender</th>\n      <th>itemInSession</th>\n      <th>lastName</th>\n      <th>length</th>\n      <th>level</th>\n      <th>location</th>\n      <th>method</th>\n      <th>page</th>\n      <th>registration</th>\n      <th>sessionId</th>\n      <th>song</th>\n      <th>status</th>\n      <th>ts</th>\n      <th>userAgent</th>\n      <th>userId</th>\n    </tr>\n  </thead>\n  <tbody>\n    <tr>\n      <td>0</td>\n      <td>N.E.R.D. FEATURING MALICE</td>\n      <td>Logged In</td>\n      <td>Jayden</td>\n      <td>M</td>\n      <td>0</td>\n      <td>Fox</td>\n      <td>288.99220</td>\n      <td>free</td>\n      <td>New Orleans-Metairie, LA</td>\n      <td>PUT</td>\n      <td>NextSong</td>\n      <td>1541033612796</td>\n      <td>184</td>\n      <td>Am I High (Feat. Malice)</td>\n      <td>200</td>\n      <td>1541121934796</td>\n      <td>\"Mozilla/5.0 (Windows NT 6.3; WOW64) AppleWebK...</td>\n      <td>101</td>\n    </tr>\n    <tr>\n      <td>2</td>\n      <td>Death Cab for Cutie</td>\n      <td>Logged In</td>\n      <td>Stefany</td>\n      <td>F</td>\n      <td>1</td>\n      <td>White</td>\n      <td>216.42404</td>\n      <td>free</td>\n      <td>Lubbock, TX</td>\n      <td>PUT</td>\n      <td>NextSong</td>\n      <td>1540708070796</td>\n      <td>82</td>\n      <td>A Lack Of Color (Album Version)</td>\n      <td>200</td>\n      <td>1541122241796</td>\n      <td>\"Mozilla/5.0 (Macintosh; Intel Mac OS X 10_9_4...</td>\n      <td>83</td>\n    </tr>\n    <tr>\n      <td>3</td>\n      <td>Tracy Gang Pussy</td>\n      <td>Logged In</td>\n      <td>Stefany</td>\n      <td>F</td>\n      <td>2</td>\n      <td>White</td>\n      <td>221.33506</td>\n      <td>free</td>\n      <td>Lubbock, TX</td>\n      <td>PUT</td>\n      <td>NextSong</td>\n      <td>1540708070796</td>\n      <td>82</td>\n      <td>I Have A Wish</td>\n      <td>200</td>\n      <td>1541122457796</td>\n      <td>\"Mozilla/5.0 (Macintosh; Intel Mac OS X 10_9_4...</td>\n      <td>83</td>\n    </tr>\n    <tr>\n      <td>4</td>\n      <td>Skillet</td>\n      <td>Logged In</td>\n      <td>Kevin</td>\n      <td>M</td>\n      <td>0</td>\n      <td>Arellano</td>\n      <td>178.02404</td>\n      <td>free</td>\n      <td>Harrisburg-Carlisle, PA</td>\n      <td>PUT</td>\n      <td>NextSong</td>\n      <td>1540006905796</td>\n      <td>153</td>\n      <td>Monster (Album Version)</td>\n      <td>200</td>\n      <td>1541126568796</td>\n      <td>\"Mozilla/5.0 (Macintosh; Intel Mac OS X 10_9_4...</td>\n      <td>66</td>\n    </tr>\n    <tr>\n      <td>5</td>\n      <td>Dance Gavin Dance</td>\n      <td>Logged In</td>\n      <td>Marina</td>\n      <td>F</td>\n      <td>0</td>\n      <td>Sutton</td>\n      <td>218.46159</td>\n      <td>free</td>\n      <td>Salinas, CA</td>\n      <td>PUT</td>\n      <td>NextSong</td>\n      <td>1541064343796</td>\n      <td>47</td>\n      <td>Uneasy Hearts Weigh The Most</td>\n      <td>200</td>\n      <td>1541127957796</td>\n      <td>\"Mozilla/5.0 (Macintosh; Intel Mac OS X 10_9_4...</td>\n      <td>48</td>\n    </tr>\n  </tbody>\n</table>\n</div>",
      "text/plain": "                      artist       auth firstName gender  itemInSession  \\\n0  N.E.R.D. FEATURING MALICE  Logged In    Jayden      M              0   \n2        Death Cab for Cutie  Logged In   Stefany      F              1   \n3           Tracy Gang Pussy  Logged In   Stefany      F              2   \n4                    Skillet  Logged In     Kevin      M              0   \n5          Dance Gavin Dance  Logged In    Marina      F              0   \n\n   lastName     length level                  location method      page  \\\n0       Fox  288.99220  free  New Orleans-Metairie, LA    PUT  NextSong   \n2     White  216.42404  free               Lubbock, TX    PUT  NextSong   \n3     White  221.33506  free               Lubbock, TX    PUT  NextSong   \n4  Arellano  178.02404  free   Harrisburg-Carlisle, PA    PUT  NextSong   \n5    Sutton  218.46159  free               Salinas, CA    PUT  NextSong   \n\n    registration  sessionId                             song  status  \\\n0  1541033612796        184         Am I High (Feat. Malice)     200   \n2  1540708070796         82  A Lack Of Color (Album Version)     200   \n3  1540708070796         82                    I Have A Wish     200   \n4  1540006905796        153          Monster (Album Version)     200   \n5  1541064343796         47     Uneasy Hearts Weigh The Most     200   \n\n              ts                                          userAgent  userId  \n0  1541121934796  \"Mozilla/5.0 (Windows NT 6.3; WOW64) AppleWebK...     101  \n2  1541122241796  \"Mozilla/5.0 (Macintosh; Intel Mac OS X 10_9_4...      83  \n3  1541122457796  \"Mozilla/5.0 (Macintosh; Intel Mac OS X 10_9_4...      83  \n4  1541126568796  \"Mozilla/5.0 (Macintosh; Intel Mac OS X 10_9_4...      66  \n5  1541127957796  \"Mozilla/5.0 (Macintosh; Intel Mac OS X 10_9_4...      48  "
     },
     "execution_count": 14,
     "metadata": {},
     "output_type": "execute_result"
    }
   ],
   "source": [
    "df = df[df.page == 'NextSong']\n",
    "df.head()"
   ]
  },
  {
   "cell_type": "code",
   "execution_count": 15,
   "metadata": {},
   "outputs": [
    {
     "data": {
      "text/plain": "0   2018-11-02 01:25:34.796\n2   2018-11-02 01:30:41.796\n3   2018-11-02 01:34:17.796\n4   2018-11-02 02:42:48.796\n5   2018-11-02 03:05:57.796\nName: ts, dtype: datetime64[ns]"
     },
     "execution_count": 15,
     "metadata": {},
     "output_type": "execute_result"
    }
   ],
   "source": [
    "t = pd.to_datetime(df['ts'], unit='ms')\n",
    "t.head()"
   ]
  },
  {
   "cell_type": "code",
   "execution_count": 16,
   "metadata": {},
   "outputs": [],
   "source": [
    "time_data = (t, t.dt.hour, t.dt.day, t.dt.weekofyear, t.dt.month, t.dt.year, t.dt.dayofweek)\n",
    "column_labels = ('timestamp', 'hour', 'day', 'week', 'month', 'year', 'weekday')"
   ]
  },
  {
   "cell_type": "code",
   "execution_count": 17,
   "metadata": {},
   "outputs": [
    {
     "data": {
      "text/html": "<div>\n<style scoped>\n    .dataframe tbody tr th:only-of-type {\n        vertical-align: middle;\n    }\n\n    .dataframe tbody tr th {\n        vertical-align: top;\n    }\n\n    .dataframe thead th {\n        text-align: right;\n    }\n</style>\n<table border=\"1\" class=\"dataframe\">\n  <thead>\n    <tr style=\"text-align: right;\">\n      <th></th>\n      <th>timestamp</th>\n      <th>hour</th>\n      <th>day</th>\n      <th>week</th>\n      <th>month</th>\n      <th>year</th>\n      <th>weekday</th>\n    </tr>\n  </thead>\n  <tbody>\n    <tr>\n      <td>0</td>\n      <td>2018-11-02 01:25:34.796</td>\n      <td>1</td>\n      <td>2</td>\n      <td>44</td>\n      <td>11</td>\n      <td>2018</td>\n      <td>4</td>\n    </tr>\n    <tr>\n      <td>2</td>\n      <td>2018-11-02 01:30:41.796</td>\n      <td>1</td>\n      <td>2</td>\n      <td>44</td>\n      <td>11</td>\n      <td>2018</td>\n      <td>4</td>\n    </tr>\n    <tr>\n      <td>3</td>\n      <td>2018-11-02 01:34:17.796</td>\n      <td>1</td>\n      <td>2</td>\n      <td>44</td>\n      <td>11</td>\n      <td>2018</td>\n      <td>4</td>\n    </tr>\n    <tr>\n      <td>4</td>\n      <td>2018-11-02 02:42:48.796</td>\n      <td>2</td>\n      <td>2</td>\n      <td>44</td>\n      <td>11</td>\n      <td>2018</td>\n      <td>4</td>\n    </tr>\n    <tr>\n      <td>5</td>\n      <td>2018-11-02 03:05:57.796</td>\n      <td>3</td>\n      <td>2</td>\n      <td>44</td>\n      <td>11</td>\n      <td>2018</td>\n      <td>4</td>\n    </tr>\n  </tbody>\n</table>\n</div>",
      "text/plain": "                timestamp  hour  day  week  month  year  weekday\n0 2018-11-02 01:25:34.796     1    2    44     11  2018        4\n2 2018-11-02 01:30:41.796     1    2    44     11  2018        4\n3 2018-11-02 01:34:17.796     1    2    44     11  2018        4\n4 2018-11-02 02:42:48.796     2    2    44     11  2018        4\n5 2018-11-02 03:05:57.796     3    2    44     11  2018        4"
     },
     "execution_count": 17,
     "metadata": {},
     "output_type": "execute_result"
    }
   ],
   "source": [
    "time_df = pd.DataFrame.from_dict(dict(zip(column_labels,time_data)))\n",
    "time_df.head()"
   ]
  },
  {
   "cell_type": "markdown",
   "metadata": {},
   "outputs": [],
   "source": [
    "#### Insert Records into Time Table\n",
    "Implement the `time_table_insert` query in `sql_queries.py` and run the cell below to insert records for the timestamps in this log file into the `time` table. Remember to run `create_tables.py` before running the cell below to ensure you've created/resetted the `time` table in the sparkify database."
   ]
  },
  {
   "cell_type": "code",
   "execution_count": 18,
   "metadata": {},
   "outputs": [],
   "source": [
    "for i, row in time_df.iterrows():\n",
    "    cur.execute(time_table_insert, list(row))\n",
    "    conn.commit()"
   ]
  },
  {
   "cell_type": "markdown",
   "metadata": {},
   "outputs": [],
   "source": [
    "Run `test.ipynb` to see if you've successfully added records to this table."
   ]
  },
  {
   "cell_type": "markdown",
   "metadata": {},
   "outputs": [],
   "source": [
    "## #4: `users` Table\n",
    "#### Extract Data for Users Table\n",
    "- Select columns for user ID, first name, last name, gender and level and set to `user_df`"
   ]
  },
  {
   "cell_type": "code",
   "execution_count": 19,
   "metadata": {},
   "outputs": [],
   "source": [
    "user_df = df[['userId', 'firstName', 'lastName', 'gender', 'level']]"
   ]
  },
  {
   "cell_type": "markdown",
   "metadata": {},
   "outputs": [],
   "source": [
    "#### Insert Records into Users Table\n",
    "Implement the `user_table_insert` query in `sql_queries.py` and run the cell below to insert records for the users in this log file into the `users` table. Remember to run `create_tables.py` before running the cell below to ensure you've created/resetted the `users` table in the sparkify database."
   ]
  },
  {
   "cell_type": "code",
   "execution_count": 20,
   "metadata": {},
   "outputs": [],
   "source": [
    "for i, row in user_df.iterrows():\n",
    "    cur.execute(user_table_insert, row)\n",
    "    conn.commit()"
   ]
  },
  {
   "cell_type": "markdown",
   "metadata": {},
   "outputs": [],
   "source": [
    "Run `test.ipynb` to see if you've successfully added records to this table."
   ]
  },
  {
   "cell_type": "markdown",
   "metadata": {},
   "outputs": [],
   "source": [
    "## #5: `songplays` Table\n",
    "#### Extract Data and Songplays Table\n",
    "This one is a little more complicated since information from the songs table, artists table, and original log file are all needed for the `songplays` table. Since the log file does not specify an ID for either the song or the artist, you'll need to get the song ID and artist ID by querying the songs and artists tables to find matches based on song title, artist name, and song duration time.\n",
    "- Implement the `song_select` query in `sql_queries.py` to find the song ID and artist ID based on the title, artist name, and duration of a song.\n",
    "- Select the timestamp, user ID, level, song ID, artist ID, session ID, location, and user agent and set to `songplay_data`\n",
    "\n",
    "#### Insert Records into Songplays Table\n",
    "- Implement the `songplay_table_insert` query and run the cell below to insert records for the songplay actions in this log file into the `songplays` table. Remember to run `create_tables.py` before running the cell below to ensure you've created/resetted the `songplays` table in the sparkify database."
   ]
  },
  {
   "cell_type": "code",
   "execution_count": 21,
   "metadata": {},
   "outputs": [],
   "source": [
    "for index, row in df.iterrows():\n",
    "\n",
    "    # get songid and artistid from song and artist tables\n",
    "    results = cur.execute(song_select, (row.song, row.artist, row.length))\n",
    "    songid, artistid = results if results else None, None\n",
    "\n",
    "    # insert songplay record\n",
    "    songplay_data = (pd.to_datetime(row.ts, unit='ms'), row.userId, row.level, songid, artistid, row.sessionId, row.location, row.userAgent)\n",
    "    cur.execute(songplay_table_insert, songplay_data)\n",
    "    conn.commit()"
   ]
  },
  {
   "cell_type": "markdown",
   "metadata": {},
   "outputs": [],
   "source": [
    "Run `test.ipynb` to see if you've successfully added records to this table."
   ]
  },
  {
   "cell_type": "markdown",
   "metadata": {},
   "outputs": [],
   "source": [
    "# Close Connection to Sparkify Database"
   ]
  },
  {
   "cell_type": "code",
   "execution_count": 22,
   "metadata": {},
   "outputs": [],
   "source": [
    "conn.close()"
   ]
  },
  {
   "cell_type": "markdown",
   "metadata": {},
   "outputs": [],
   "source": [
    "# Implement `etl.py`\n",
    "Use what you've completed in this notebook to implement `etl.py`."
   ]
  },
  {
   "cell_type": "code",
   "metadata": {},
   "outputs": [],
   "source": []
  }
 ],
 "metadata": {
  "kernelspec": {
   "display_name": "Python 3",
   "language": "python",
   "name": "python3"
  },
  "language_info": {
   "codemirror_mode": {
    "name": "ipython",
    "version": 3
   },
   "file_extension": ".py",
   "mimetype": "text/x-python",
   "name": "python",
   "nbconvert_exporter": "python",
   "pygments_lexer": "ipython3",
   "version": "3.7.4"
  }
 },
 "nbformat": 4,
 "nbformat_minor": 2
}